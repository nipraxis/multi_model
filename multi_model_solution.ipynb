{
 "cells": [
  {
   "cell_type": "markdown",
   "id": "f9f6cdf8",
   "metadata": {},
   "source": [
    "# Basic linear modeling\n",
    "\n",
    "In this exercise we will run a simple regression on all voxels in a 4D\n",
    "FMRI image `ds114_sub009_t2r1.nii`:"
   ]
  },
  {
   "cell_type": "code",
   "execution_count": 1,
   "id": "b6ce7ee6",
   "metadata": {
    "execution": {
     "iopub.execute_input": "2022-05-23T10:40:13.737122Z",
     "iopub.status.busy": "2022-05-23T10:40:13.736426Z",
     "iopub.status.idle": "2022-05-23T10:40:14.212085Z",
     "shell.execute_reply": "2022-05-23T10:40:14.212514Z"
    }
   },
   "outputs": [],
   "source": [
    "#: Import some standard librares\n",
    "import numpy as np\n",
    "# Print to 4 DP\n",
    "np.set_printoptions(precision=4)\n",
    "import numpy.linalg as npl\n",
    "import matplotlib.pyplot as plt\n",
    "\n",
    "# Set default imshow parameters\n",
    "plt.rcParams['image.cmap'] = 'gray'\n",
    "\n",
    "import nibabel as nib\n",
    "\n",
    "import nipraxis"
   ]
  },
  {
   "cell_type": "code",
   "execution_count": 2,
   "id": "b39d9663",
   "metadata": {
    "execution": {
     "iopub.execute_input": "2022-05-23T10:40:14.216813Z",
     "iopub.status.busy": "2022-05-23T10:40:14.216196Z",
     "iopub.status.idle": "2022-05-23T10:40:14.395037Z",
     "shell.execute_reply": "2022-05-23T10:40:14.395460Z"
    }
   },
   "outputs": [],
   "source": [
    "# Fetch and load the data file.\n",
    "data_fname = nipraxis.fetch_file('ds114_sub009_t2r1.nii')\n",
    "img = nib.load(data_fname)\n",
    "data = img.get_fdata()\n",
    "# Knock of first four volumes.\n",
    "data = data[..., 4:]"
   ]
  },
  {
   "cell_type": "markdown",
   "id": "8984f457",
   "metadata": {},
   "source": [
    "We make the design matrix from the convolved regressor from [Convolving with\n",
    "the hemodyamic response\n",
    "function](https://textbook.nipraxis.org/convolution_background.html):"
   ]
  },
  {
   "cell_type": "code",
   "execution_count": 3,
   "id": "ebd9d70e",
   "metadata": {
    "execution": {
     "iopub.execute_input": "2022-05-23T10:40:14.399529Z",
     "iopub.status.busy": "2022-05-23T10:40:14.398908Z",
     "iopub.status.idle": "2022-05-23T10:40:14.528751Z",
     "shell.execute_reply": "2022-05-23T10:40:14.529170Z"
    }
   },
   "outputs": [],
   "source": [
    "# Load the pre-written convolved time course\n",
    "conv_fname = nipraxis.fetch_file('ds114_sub009_t2r1_conv.txt')\n",
    "# Knock off the first four elements\n",
    "convolved = np.loadtxt(conv_fname)[4:]\n",
    "plt.plot(convolved)"
   ]
  },
  {
   "cell_type": "markdown",
   "id": "7715cf76",
   "metadata": {},
   "source": [
    "Now compile the design matrix for a simple regression, where the regressor (independent variable) is the convolved time-course."
   ]
  },
  {
   "cell_type": "code",
   "execution_count": 4,
   "id": "3cbb6e7d",
   "metadata": {
    "execution": {
     "iopub.execute_input": "2022-05-23T10:40:14.549667Z",
     "iopub.status.busy": "2022-05-23T10:40:14.549005Z",
     "iopub.status.idle": "2022-05-23T10:40:14.626823Z",
     "shell.execute_reply": "2022-05-23T10:40:14.627251Z"
    }
   },
   "outputs": [],
   "source": [
    "#- Compile the design matrix\n",
    "#- First column is convolved regressor\n",
    "#- Second column all ones\n",
    "#- Hint: investigate \"aspect\" keyword to ``plt.imshow`` for a nice\n",
    "#- looking image.\n",
    "design = np.ones((len(convolved), 2))\n",
    "design[:, 0] = convolved\n",
    "# Show an image of the resulting design matrix.\n",
    "plt.imshow(design, aspect=0.1)"
   ]
  },
  {
   "cell_type": "code",
   "execution_count": 5,
   "id": "93abe79a",
   "metadata": {
    "execution": {
     "iopub.execute_input": "2022-05-23T10:40:14.631389Z",
     "iopub.status.busy": "2022-05-23T10:40:14.630796Z",
     "iopub.status.idle": "2022-05-23T10:40:14.632754Z",
     "shell.execute_reply": "2022-05-23T10:40:14.633179Z"
    }
   },
   "outputs": [],
   "source": [
    "assert design.shape == (len(convolved), 2)\n",
    "assert np.allclose(np.mean(design, axis=0), [np.mean(convolved), 1])"
   ]
  },
  {
   "cell_type": "markdown",
   "id": "3ee6905e",
   "metadata": {},
   "source": [
    "Next reshape the voxel data to two dimensions, where the first dimension is\n",
    "voxels, and the second dimension is time (volume).  Therefore there should be\n",
    "one column for each volume (time-point), and one row for each voxel.  Then transpose to get a time by voxels array.\n",
    "\n",
    "You may want to have another look at [reshaping 4D to 2D](https://textbook.nipraxis.org/reshape_and_4d.html).\n"
   ]
  },
  {
   "cell_type": "code",
   "execution_count": 6,
   "id": "a360e3bf",
   "metadata": {
    "execution": {
     "iopub.execute_input": "2022-05-23T10:40:14.636907Z",
     "iopub.status.busy": "2022-05-23T10:40:14.636288Z",
     "iopub.status.idle": "2022-05-23T10:40:14.972855Z",
     "shell.execute_reply": "2022-05-23T10:40:14.973358Z"
    }
   },
   "outputs": [],
   "source": [
    "#- Reshape the 4D data to voxel by time 2D, and transpose to time by voxels.\n",
    "data_2d = np.reshape(data, (-1, data.shape[-1])).T\n",
    "# Show the resulting shape\n",
    "data_2d.shape"
   ]
  },
  {
   "cell_type": "code",
   "execution_count": 7,
   "id": "584b853b",
   "metadata": {
    "execution": {
     "iopub.execute_input": "2022-05-23T10:40:14.978383Z",
     "iopub.status.busy": "2022-05-23T10:40:14.977780Z",
     "iopub.status.idle": "2022-05-23T10:40:14.979634Z",
     "shell.execute_reply": "2022-05-23T10:40:14.980052Z"
    }
   },
   "outputs": [],
   "source": [
    "assert len(data_2d.shape) == 2, 'Did you reshape to 2D?'\n",
    "assert data_2d.shape[0] == data.shape[-1], \\\n",
    "    'Did you transpose to time by voxels?'\n",
    "assert data_2d.shape[1] == np.prod(data.shape[:3])\n",
    "assert np.all(data_2d[:, 0] == data[0, 0, 0, :]), 'First col is first voxel'\n",
    "assert np.all(data_2d[:, -1] == data[-1, -1, -1, :]), 'Last col is last voxel'"
   ]
  },
  {
   "cell_type": "markdown",
   "id": "9e0a8d8b",
   "metadata": {},
   "source": [
    "Next estimate the betas for the design, by matrix-multiplying on the left with the pseudo-inverse of the design matrix."
   ]
  },
  {
   "cell_type": "code",
   "execution_count": 8,
   "id": "2a1ce9ca",
   "metadata": {
    "execution": {
     "iopub.execute_input": "2022-05-23T10:40:14.993533Z",
     "iopub.status.busy": "2022-05-23T10:40:14.992808Z",
     "iopub.status.idle": "2022-05-23T10:40:14.996995Z",
     "shell.execute_reply": "2022-05-23T10:40:14.997686Z"
    }
   },
   "outputs": [],
   "source": [
    "#- Calculate the pseudoinverse of the design\n",
    "#- Apply to time by voxel array to get betas\n",
    "betas_2d = npl.pinv(design) @ data_2d\n",
    "# Show the resulting shape\n",
    "betas_2d.shape"
   ]
  },
  {
   "cell_type": "code",
   "execution_count": 9,
   "id": "8fa7b8d1",
   "metadata": {
    "execution": {
     "iopub.execute_input": "2022-05-23T10:40:15.001982Z",
     "iopub.status.busy": "2022-05-23T10:40:15.001323Z",
     "iopub.status.idle": "2022-05-23T10:40:15.003392Z",
     "shell.execute_reply": "2022-05-23T10:40:15.003840Z"
    }
   },
   "outputs": [],
   "source": [
    "assert betas_2d.shape == (2, np.prod(data.shape[:3]))"
   ]
  },
  {
   "cell_type": "markdown",
   "id": "be65bcaa",
   "metadata": {},
   "source": [
    "You now want to reshape the betas into a four dimensional array, with the\n",
    "first three axes being voxel axes, and the last, of length 2, being the\n",
    "parameters.  So the resulting 4D array will be a stack of two 3D arrays, where the first 3D array has the parameters from the first column of the design matrix, and the second has the parameters from the second column."
   ]
  },
  {
   "cell_type": "code",
   "execution_count": 10,
   "id": "2583225c",
   "metadata": {
    "execution": {
     "iopub.execute_input": "2022-05-23T10:40:15.008407Z",
     "iopub.status.busy": "2022-05-23T10:40:15.007728Z",
     "iopub.status.idle": "2022-05-23T10:40:15.010903Z",
     "shell.execute_reply": "2022-05-23T10:40:15.010439Z"
    }
   },
   "outputs": [],
   "source": [
    "#- Transpose betas to give voxels by 2 array\n",
    "#- Reshape into 4D array, with same 3D shape as original data,\n",
    "#- last dimension length 2\n",
    "betas_4d = np.reshape(betas_2d.T, data.shape[:-1] + (-1,))\n",
    "# Show the resulting shape\n",
    "betas_4d.shape"
   ]
  },
  {
   "cell_type": "code",
   "execution_count": 11,
   "id": "15454897",
   "metadata": {
    "execution": {
     "iopub.execute_input": "2022-05-23T10:40:15.015546Z",
     "iopub.status.busy": "2022-05-23T10:40:15.014871Z",
     "iopub.status.idle": "2022-05-23T10:40:15.017348Z",
     "shell.execute_reply": "2022-05-23T10:40:15.016879Z"
    },
    "lines_to_next_cell": 2
   },
   "outputs": [],
   "source": [
    "assert betas_4d.shape[-1] == 2, 'Did you do any necessary transpose?'\n",
    "assert betas_4d.shape == data.shape[:3] + (2,)\n",
    "assert np.all(betas_4d[0, 0, 0, :] == betas_2d[:, 0]), 'First voxel is first col'\n",
    "assert np.all(betas_4d[-1, -1, -1, :] == betas_2d[:, -1]), 'Last voxel is last col'"
   ]
  },
  {
   "cell_type": "code",
   "execution_count": 12,
   "id": "e03458ee",
   "metadata": {
    "execution": {
     "iopub.execute_input": "2022-05-23T10:40:15.066402Z",
     "iopub.status.busy": "2022-05-23T10:40:15.065714Z",
     "iopub.status.idle": "2022-05-23T10:40:15.155253Z",
     "shell.execute_reply": "2022-05-23T10:40:15.155671Z"
    }
   },
   "outputs": [],
   "source": [
    "#- Show the middle slice from the first beta volume\n",
    "plt.imshow(betas_4d[:, :, 14, 0], interpolation='nearest', cmap='gray')"
   ]
  },
  {
   "cell_type": "code",
   "execution_count": 13,
   "id": "7a4af915",
   "metadata": {
    "execution": {
     "iopub.execute_input": "2022-05-23T10:40:15.174587Z",
     "iopub.status.busy": "2022-05-23T10:40:15.173869Z",
     "iopub.status.idle": "2022-05-23T10:40:15.263376Z",
     "shell.execute_reply": "2022-05-23T10:40:15.263796Z"
    }
   },
   "outputs": [],
   "source": [
    "#- Show the middle slice from the second beta volume\n",
    "plt.imshow(betas_4d[:, :, 14, 1], interpolation='nearest', cmap='gray')"
   ]
  }
 ],
 "metadata": {
  "jupytext": {
   "notebook_metadata_filter": "all,-language_info",
   "split_at_heading": true,
   "text_representation": {
    "extension": ".Rmd",
    "format_name": "rmarkdown",
    "format_version": "1.2",
    "jupytext_version": "1.13.7"
   }
  },
  "kernelspec": {
   "display_name": "Python 3",
   "language": "python",
   "name": "python3"
  },
  "language_info": {
   "codemirror_mode": {
    "name": "ipython",
    "version": 3
   },
   "file_extension": ".py",
   "mimetype": "text/x-python",
   "name": "python",
   "nbconvert_exporter": "python",
   "pygments_lexer": "ipython3",
   "version": "3.8.13"
  }
 },
 "nbformat": 4,
 "nbformat_minor": 5
}
